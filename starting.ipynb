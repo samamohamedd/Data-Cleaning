{
 "cells": [
  {
   "cell_type": "code",
   "execution_count": 1,
   "metadata": {},
   "outputs": [],
   "source": [
    "import pandas as pd"
   ]
  },
  {
   "cell_type": "code",
   "execution_count": 2,
   "metadata": {},
   "outputs": [],
   "source": [
    "pd.set_option('display.width', 85)\n",
    "pd.set_option('display.max_columns', 8)"
   ]
  },
  {
   "cell_type": "code",
   "execution_count": 3,
   "metadata": {},
   "outputs": [
    {
     "name": "stderr",
     "output_type": "stream",
     "text": [
      "C:\\Users\\samam\\AppData\\Local\\Temp\\ipykernel_6924\\1070294055.py:1: UserWarning: Could not infer format, so each element will be parsed individually, falling back to `dateutil`. To ensure parsing is consistent and as-expected, please specify a format.\n",
      "  landtemps = pd.read_csv('data/landtempssample.csv',\n"
     ]
    }
   ],
   "source": [
    "landtemps = pd.read_csv('data/landtempssample.csv',\n",
    "                        names=['stationid','year','month','avgtemp','latitude',\n",
    "                        'longitude','elevation','station','countryid','country'],\n",
    "                        skiprows=1,\n",
    "                        parse_dates=[['month', 'year']],\n",
    "                        low_memory=False)"
   ]
  },
  {
   "cell_type": "code",
   "execution_count": 4,
   "metadata": {},
   "outputs": [
    {
     "data": {
      "text/html": [
       "<div>\n",
       "<style scoped>\n",
       "    .dataframe tbody tr th:only-of-type {\n",
       "        vertical-align: middle;\n",
       "    }\n",
       "\n",
       "    .dataframe tbody tr th {\n",
       "        vertical-align: top;\n",
       "    }\n",
       "\n",
       "    .dataframe thead th {\n",
       "        text-align: right;\n",
       "    }\n",
       "</style>\n",
       "<table border=\"1\" class=\"dataframe\">\n",
       "  <thead>\n",
       "    <tr style=\"text-align: right;\">\n",
       "      <th></th>\n",
       "      <th>month_year</th>\n",
       "      <th>stationid</th>\n",
       "      <th>avgtemp</th>\n",
       "      <th>latitude</th>\n",
       "      <th>...</th>\n",
       "      <th>elevation</th>\n",
       "      <th>station</th>\n",
       "      <th>countryid</th>\n",
       "      <th>country</th>\n",
       "    </tr>\n",
       "  </thead>\n",
       "  <tbody>\n",
       "    <tr>\n",
       "      <th>0</th>\n",
       "      <td>2000-04-01</td>\n",
       "      <td>USS0010K01S</td>\n",
       "      <td>5.27</td>\n",
       "      <td>39.9000</td>\n",
       "      <td>...</td>\n",
       "      <td>2773.7</td>\n",
       "      <td>INDIAN_CANYON</td>\n",
       "      <td>US</td>\n",
       "      <td>United States</td>\n",
       "    </tr>\n",
       "    <tr>\n",
       "      <th>1</th>\n",
       "      <td>1940-05-01</td>\n",
       "      <td>CI000085406</td>\n",
       "      <td>18.04</td>\n",
       "      <td>-18.3500</td>\n",
       "      <td>...</td>\n",
       "      <td>58.0</td>\n",
       "      <td>ARICA</td>\n",
       "      <td>CI</td>\n",
       "      <td>Chile</td>\n",
       "    </tr>\n",
       "    <tr>\n",
       "      <th>2</th>\n",
       "      <td>2013-12-01</td>\n",
       "      <td>USC00036376</td>\n",
       "      <td>6.22</td>\n",
       "      <td>34.3703</td>\n",
       "      <td>...</td>\n",
       "      <td>61.0</td>\n",
       "      <td>SAINT_CHARLES</td>\n",
       "      <td>US</td>\n",
       "      <td>United States</td>\n",
       "    </tr>\n",
       "    <tr>\n",
       "      <th>3</th>\n",
       "      <td>1963-02-01</td>\n",
       "      <td>ASN00024002</td>\n",
       "      <td>22.93</td>\n",
       "      <td>-34.2833</td>\n",
       "      <td>...</td>\n",
       "      <td>65.5</td>\n",
       "      <td>BERRI_IRRIGATION</td>\n",
       "      <td>AS</td>\n",
       "      <td>Australia</td>\n",
       "    </tr>\n",
       "    <tr>\n",
       "      <th>4</th>\n",
       "      <td>2001-11-01</td>\n",
       "      <td>ASN00028007</td>\n",
       "      <td>NaN</td>\n",
       "      <td>-14.7803</td>\n",
       "      <td>...</td>\n",
       "      <td>79.4</td>\n",
       "      <td>MUSGRAVE</td>\n",
       "      <td>AS</td>\n",
       "      <td>Australia</td>\n",
       "    </tr>\n",
       "  </tbody>\n",
       "</table>\n",
       "<p>5 rows × 9 columns</p>\n",
       "</div>"
      ],
      "text/plain": [
       "  month_year    stationid  avgtemp  latitude  ...  elevation           station  \\\n",
       "0 2000-04-01  USS0010K01S     5.27   39.9000  ...     2773.7     INDIAN_CANYON   \n",
       "1 1940-05-01  CI000085406    18.04  -18.3500  ...       58.0             ARICA   \n",
       "2 2013-12-01  USC00036376     6.22   34.3703  ...       61.0     SAINT_CHARLES   \n",
       "3 1963-02-01  ASN00024002    22.93  -34.2833  ...       65.5  BERRI_IRRIGATION   \n",
       "4 2001-11-01  ASN00028007      NaN  -14.7803  ...       79.4          MUSGRAVE   \n",
       "\n",
       "  countryid        country  \n",
       "0        US  United States  \n",
       "1        CI          Chile  \n",
       "2        US  United States  \n",
       "3        AS      Australia  \n",
       "4        AS      Australia  \n",
       "\n",
       "[5 rows x 9 columns]"
      ]
     },
     "execution_count": 4,
     "metadata": {},
     "output_type": "execute_result"
    }
   ],
   "source": [
    "landtemps.head(5)"
   ]
  },
  {
   "cell_type": "code",
   "execution_count": 5,
   "metadata": {},
   "outputs": [
    {
     "data": {
      "text/plain": [
       "month_year    datetime64[ns]\n",
       "stationid             object\n",
       "avgtemp              float64\n",
       "latitude             float64\n",
       "longitude            float64\n",
       "elevation            float64\n",
       "station               object\n",
       "countryid             object\n",
       "country               object\n",
       "dtype: object"
      ]
     },
     "execution_count": 5,
     "metadata": {},
     "output_type": "execute_result"
    }
   ],
   "source": [
    "landtemps.dtypes"
   ]
  },
  {
   "cell_type": "code",
   "execution_count": 6,
   "metadata": {},
   "outputs": [
    {
     "data": {
      "text/plain": [
       "(100000, 9)"
      ]
     },
     "execution_count": 6,
     "metadata": {},
     "output_type": "execute_result"
    }
   ],
   "source": [
    "landtemps.shape"
   ]
  },
  {
   "cell_type": "code",
   "execution_count": 7,
   "metadata": {},
   "outputs": [],
   "source": [
    "landtemps.rename(columns={'month_year' : 'date'}, inplace=True)"
   ]
  },
  {
   "cell_type": "code",
   "execution_count": 8,
   "metadata": {},
   "outputs": [
    {
     "data": {
      "text/plain": [
       "date         datetime64[ns]\n",
       "stationid            object\n",
       "avgtemp             float64\n",
       "latitude            float64\n",
       "longitude           float64\n",
       "elevation           float64\n",
       "station              object\n",
       "countryid            object\n",
       "country              object\n",
       "dtype: object"
      ]
     },
     "execution_count": 8,
     "metadata": {},
     "output_type": "execute_result"
    }
   ],
   "source": [
    "landtemps.dtypes"
   ]
  },
  {
   "cell_type": "code",
   "execution_count": 9,
   "metadata": {},
   "outputs": [
    {
     "data": {
      "text/plain": [
       "count    85554.000000\n",
       "mean        10.920770\n",
       "std         11.522444\n",
       "min        -70.700000\n",
       "25%          3.460000\n",
       "50%         12.220000\n",
       "75%         19.570000\n",
       "max         39.950000\n",
       "Name: avgtemp, dtype: float64"
      ]
     },
     "execution_count": 9,
     "metadata": {},
     "output_type": "execute_result"
    }
   ],
   "source": [
    "landtemps.avgtemp.describe()"
   ]
  },
  {
   "cell_type": "code",
   "execution_count": 10,
   "metadata": {},
   "outputs": [
    {
     "data": {
      "text/plain": [
       "date             0\n",
       "stationid        0\n",
       "avgtemp      14446\n",
       "latitude         0\n",
       "longitude        0\n",
       "elevation        0\n",
       "station          0\n",
       "countryid        0\n",
       "country          5\n",
       "dtype: int64"
      ]
     },
     "execution_count": 10,
     "metadata": {},
     "output_type": "execute_result"
    }
   ],
   "source": [
    "landtemps.isnull().sum()"
   ]
  },
  {
   "cell_type": "code",
   "execution_count": 11,
   "metadata": {},
   "outputs": [],
   "source": [
    "landtemps.dropna(subset=['avgtemp'], inplace=True)"
   ]
  },
  {
   "cell_type": "code",
   "execution_count": 12,
   "metadata": {},
   "outputs": [
    {
     "data": {
      "text/plain": [
       "(85554, 9)"
      ]
     },
     "execution_count": 12,
     "metadata": {},
     "output_type": "execute_result"
    }
   ],
   "source": [
    "landtemps.shape"
   ]
  },
  {
   "cell_type": "code",
   "execution_count": 13,
   "metadata": {},
   "outputs": [],
   "source": [
    "gdp = pd.read_excel('data/GDPpercapita22.xlsx'\n",
    "                    ,skipfooter=1\n",
    "                    , usecols=\"A,C:T\")"
   ]
  },
  {
   "cell_type": "code",
   "execution_count": 14,
   "metadata": {},
   "outputs": [
    {
     "data": {
      "text/html": [
       "<div>\n",
       "<style scoped>\n",
       "    .dataframe tbody tr th:only-of-type {\n",
       "        vertical-align: middle;\n",
       "    }\n",
       "\n",
       "    .dataframe tbody tr th {\n",
       "        vertical-align: top;\n",
       "    }\n",
       "\n",
       "    .dataframe thead th {\n",
       "        text-align: right;\n",
       "    }\n",
       "</style>\n",
       "<table border=\"1\" class=\"dataframe\">\n",
       "  <thead>\n",
       "    <tr style=\"text-align: right;\">\n",
       "      <th></th>\n",
       "      <th>NaN</th>\n",
       "      <th>Unnamed: 2</th>\n",
       "      <th>Unnamed: 3</th>\n",
       "      <th>Unnamed: 4</th>\n",
       "      <th>...</th>\n",
       "      <th>Unnamed: 16</th>\n",
       "      <th>Unnamed: 17</th>\n",
       "      <th>Unnamed: 18</th>\n",
       "      <th>Unnamed: 19</th>\n",
       "    </tr>\n",
       "  </thead>\n",
       "  <tbody>\n",
       "    <tr>\n",
       "      <th>0</th>\n",
       "      <td>Dataset: Metropolitan areas</td>\n",
       "      <td>NaN</td>\n",
       "      <td>NaN</td>\n",
       "      <td>NaN</td>\n",
       "      <td>...</td>\n",
       "      <td>NaN</td>\n",
       "      <td>NaN</td>\n",
       "      <td>NaN</td>\n",
       "      <td>NaN</td>\n",
       "    </tr>\n",
       "    <tr>\n",
       "      <th>1</th>\n",
       "      <td>Variables</td>\n",
       "      <td>GDP per capita (USD, constant prices, constant...</td>\n",
       "      <td>NaN</td>\n",
       "      <td>NaN</td>\n",
       "      <td>...</td>\n",
       "      <td>NaN</td>\n",
       "      <td>NaN</td>\n",
       "      <td>NaN</td>\n",
       "      <td>NaN</td>\n",
       "    </tr>\n",
       "    <tr>\n",
       "      <th>2</th>\n",
       "      <td>Unit</td>\n",
       "      <td>US Dollar</td>\n",
       "      <td>NaN</td>\n",
       "      <td>NaN</td>\n",
       "      <td>...</td>\n",
       "      <td>NaN</td>\n",
       "      <td>NaN</td>\n",
       "      <td>NaN</td>\n",
       "      <td>NaN</td>\n",
       "    </tr>\n",
       "    <tr>\n",
       "      <th>3</th>\n",
       "      <td>Year</td>\n",
       "      <td>2000</td>\n",
       "      <td>2001</td>\n",
       "      <td>2002</td>\n",
       "      <td>...</td>\n",
       "      <td>2014.0</td>\n",
       "      <td>2015</td>\n",
       "      <td>2016</td>\n",
       "      <td>2017</td>\n",
       "    </tr>\n",
       "    <tr>\n",
       "      <th>4</th>\n",
       "      <td>Metropolitan areas</td>\n",
       "      <td>NaN</td>\n",
       "      <td>NaN</td>\n",
       "      <td>NaN</td>\n",
       "      <td>...</td>\n",
       "      <td>NaN</td>\n",
       "      <td>NaN</td>\n",
       "      <td>NaN</td>\n",
       "      <td>NaN</td>\n",
       "    </tr>\n",
       "  </tbody>\n",
       "</table>\n",
       "<p>5 rows × 19 columns</p>\n",
       "</div>"
      ],
      "text/plain": [
       "                           NaN                                         Unnamed: 2  \\\n",
       "0  Dataset: Metropolitan areas                                                NaN   \n",
       "1                    Variables  GDP per capita (USD, constant prices, constant...   \n",
       "2                         Unit                                          US Dollar   \n",
       "3                         Year                                               2000   \n",
       "4           Metropolitan areas                                                NaN   \n",
       "\n",
       "  Unnamed: 3 Unnamed: 4  ... Unnamed: 16 Unnamed: 17 Unnamed: 18 Unnamed: 19  \n",
       "0        NaN        NaN  ...         NaN         NaN         NaN         NaN  \n",
       "1        NaN        NaN  ...         NaN         NaN         NaN         NaN  \n",
       "2        NaN        NaN  ...         NaN         NaN         NaN         NaN  \n",
       "3       2001       2002  ...      2014.0        2015        2016        2017  \n",
       "4        NaN        NaN  ...         NaN         NaN         NaN         NaN  \n",
       "\n",
       "[5 rows x 19 columns]"
      ]
     },
     "execution_count": 14,
     "metadata": {},
     "output_type": "execute_result"
    }
   ],
   "source": [
    "gdp.head()"
   ]
  },
  {
   "cell_type": "code",
   "execution_count": 15,
   "metadata": {},
   "outputs": [
    {
     "data": {
      "text/plain": [
       "(735, 19)"
      ]
     },
     "execution_count": 15,
     "metadata": {},
     "output_type": "execute_result"
    }
   ],
   "source": [
    "gdp.shape"
   ]
  },
  {
   "cell_type": "code",
   "execution_count": 16,
   "metadata": {},
   "outputs": [
    {
     "name": "stdout",
     "output_type": "stream",
     "text": [
      "<class 'pandas.core.frame.DataFrame'>\n",
      "RangeIndex: 735 entries, 0 to 734\n",
      "Data columns (total 19 columns):\n",
      " #   Column       Non-Null Count  Dtype  \n",
      "---  ------       --------------  -----  \n",
      " 0   nan          735 non-null    object \n",
      " 1   Unnamed: 2   733 non-null    object \n",
      " 2   Unnamed: 3   731 non-null    object \n",
      " 3   Unnamed: 4   731 non-null    object \n",
      " 4   Unnamed: 5   731 non-null    object \n",
      " 5   Unnamed: 6   731 non-null    object \n",
      " 6   Unnamed: 7   731 non-null    object \n",
      " 7   Unnamed: 8   731 non-null    object \n",
      " 8   Unnamed: 9   731 non-null    object \n",
      " 9   Unnamed: 10  731 non-null    object \n",
      " 10  Unnamed: 11  731 non-null    object \n",
      " 11  Unnamed: 12  731 non-null    float64\n",
      " 12  Unnamed: 13  731 non-null    float64\n",
      " 13  Unnamed: 14  731 non-null    float64\n",
      " 14  Unnamed: 15  731 non-null    float64\n",
      " 15  Unnamed: 16  731 non-null    float64\n",
      " 16  Unnamed: 17  731 non-null    object \n",
      " 17  Unnamed: 18  731 non-null    object \n",
      " 18  Unnamed: 19  731 non-null    object \n",
      "dtypes: float64(5), object(14)\n",
      "memory usage: 109.2+ KB\n"
     ]
    }
   ],
   "source": [
    "gdp.info()"
   ]
  },
  {
   "cell_type": "code",
   "execution_count": 17,
   "metadata": {},
   "outputs": [],
   "source": [
    "for col in gdp.columns[1:] : \n",
    "    gdp[col] = pd.to_numeric(gdp[col], errors='coerce')"
   ]
  },
  {
   "cell_type": "code",
   "execution_count": 18,
   "metadata": {},
   "outputs": [
    {
     "name": "stdout",
     "output_type": "stream",
     "text": [
      "<class 'pandas.core.frame.DataFrame'>\n",
      "RangeIndex: 735 entries, 0 to 734\n",
      "Data columns (total 19 columns):\n",
      " #   Column       Non-Null Count  Dtype  \n",
      "---  ------       --------------  -----  \n",
      " 0   nan          735 non-null    object \n",
      " 1   Unnamed: 2   194 non-null    float64\n",
      " 2   Unnamed: 3   487 non-null    float64\n",
      " 3   Unnamed: 4   516 non-null    float64\n",
      " 4   Unnamed: 5   604 non-null    float64\n",
      " 5   Unnamed: 6   624 non-null    float64\n",
      " 6   Unnamed: 7   652 non-null    float64\n",
      " 7   Unnamed: 8   696 non-null    float64\n",
      " 8   Unnamed: 9   696 non-null    float64\n",
      " 9   Unnamed: 10  711 non-null    float64\n",
      " 10  Unnamed: 11  711 non-null    float64\n",
      " 11  Unnamed: 12  731 non-null    float64\n",
      " 12  Unnamed: 13  731 non-null    float64\n",
      " 13  Unnamed: 14  731 non-null    float64\n",
      " 14  Unnamed: 15  731 non-null    float64\n",
      " 15  Unnamed: 16  731 non-null    float64\n",
      " 16  Unnamed: 17  730 non-null    float64\n",
      " 17  Unnamed: 18  730 non-null    float64\n",
      " 18  Unnamed: 19  730 non-null    float64\n",
      "dtypes: float64(18), object(1)\n",
      "memory usage: 109.2+ KB\n"
     ]
    }
   ],
   "source": [
    "gdp.info()"
   ]
  },
  {
   "cell_type": "code",
   "execution_count": null,
   "metadata": {},
   "outputs": [],
   "source": []
  }
 ],
 "metadata": {
  "kernelspec": {
   "display_name": "base",
   "language": "python",
   "name": "python3"
  },
  "language_info": {
   "codemirror_mode": {
    "name": "ipython",
    "version": 3
   },
   "file_extension": ".py",
   "mimetype": "text/x-python",
   "name": "python",
   "nbconvert_exporter": "python",
   "pygments_lexer": "ipython3",
   "version": "3.11.5"
  }
 },
 "nbformat": 4,
 "nbformat_minor": 2
}
